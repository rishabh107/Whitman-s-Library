{
 "cells": [
  {
   "cell_type": "code",
   "execution_count": 3,
   "id": "f752a6ac",
   "metadata": {},
   "outputs": [],
   "source": [
    "import numpy as np\n",
    "import pandas as pd\n",
    "import seaborn as sns\n",
    "import matplotlib.pyplot as plt\n",
    "from scipy import stats\n",
    "from scipy import optimize\n",
    "from scipy.optimize import curve_fit"
   ]
  },
  {
   "cell_type": "markdown",
   "id": "d4799176",
   "metadata": {},
   "source": [
    "# H02e - Collision of Billiard balls + Bounce of rubber ball\n",
    "## Submitted by: Miruna Francesca Maria (3791759), Rishabh Khanna(3779066)"
   ]
  },
  {
   "cell_type": "markdown",
   "id": "a933ecf7",
   "metadata": {},
   "source": [
    "## Task 1: \n",
    "One-dimensional collision between two billiard balls.\n",
    "## Objective: \n",
    "Analyse the kinematical processes using a video analysis software (Viana.net). Determine the position of the moving balls. Verify the conservation law for momentum. Observe the kinematics of the two balls after the collision and compare the ratios of the initial and final velocities with the theoretical relations.\n",
    "## Procedure:\n"
   ]
  },
  {
   "cell_type": "code",
   "execution_count": null,
   "id": "3ce057e3",
   "metadata": {},
   "outputs": [],
   "source": []
  }
 ],
 "metadata": {
  "hide_input": false,
  "kernelspec": {
   "display_name": "Python 3 (ipykernel)",
   "language": "python",
   "name": "python3"
  },
  "language_info": {
   "codemirror_mode": {
    "name": "ipython",
    "version": 3
   },
   "file_extension": ".py",
   "mimetype": "text/x-python",
   "name": "python",
   "nbconvert_exporter": "python",
   "pygments_lexer": "ipython3",
   "version": "3.11.4"
  }
 },
 "nbformat": 4,
 "nbformat_minor": 5
}
